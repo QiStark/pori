{
  "nbformat": 4,
  "nbformat_minor": 0,
  "metadata": {
    "colab": {
      "name": "Annotate a VCF with GraphKB.ipynb",
      "provenance": [],
      "collapsed_sections": [],
      "authorship_tag": "ABX9TyNbMx+KNII8JJDYIEhZCrtQ",
      "include_colab_link": true
    },
    "kernelspec": {
      "name": "python3",
      "display_name": "Python 3"
    },
    "language_info": {
      "name": "python"
    }
  },
  "cells": [
    {
      "cell_type": "markdown",
      "metadata": {
        "id": "view-in-github",
        "colab_type": "text"
      },
      "source": [
        "<a href=\"https://colab.research.google.com/github/bcgsc/pori/blob/master/docs/graphkb/scripting/Annotate_a_VCF_with_GraphKB.ipynb\" target=\"_parent\"><img src=\"https://colab.research.google.com/assets/colab-badge.svg\" alt=\"Open In Colab\"/></a>"
      ]
    },
    {
      "cell_type": "markdown",
      "metadata": {
        "id": "0hxoGU4NsW_v"
      },
      "source": [
        "# Annotate a VCF with GraphKB"
      ]
    },
    {
      "cell_type": "markdown",
      "metadata": {
        "id": "9QqPJHpksbc5"
      },
      "source": [
        "A common format for small mutations is the VCF file. There are a number of variants of this format. To help users getting started we have provided this example script of how to convert from a VCF file to the JSON format that the IPR python adaptor expects.\n",
        "\n",
        "We expect users to annotate their VCF files with protein and/or cds HGVS notation prior to this."
      ]
    },
    {
      "cell_type": "markdown",
      "metadata": {
        "id": "gMHNMXbID82F"
      },
      "source": [
        "## Download Files\n",
        "\n"
      ]
    },
    {
      "cell_type": "markdown",
      "metadata": {
        "id": "30BcEgpntFZh"
      },
      "source": [
        "## Install\n",
        "\n",
        "To do this we are going to install a couple of common python libraries. We will use pysam to read the vcf file ([Pysam - Working with VCF](https://pysam.readthedocs.io/en/latest/usage.html#working-with-vcf-bcf-formatted-files))."
      ]
    },
    {
      "cell_type": "code",
      "metadata": {
        "colab": {
          "base_uri": "https://localhost:8080/"
        },
        "id": "KMY-jeVksUmQ",
        "outputId": "ce804787-b152-481e-dfe9-079e5653c900"
      },
      "source": [
        "!pip install pysam pandas seaborn graphkb"
      ],
      "execution_count": null,
      "outputs": [
        {
          "output_type": "stream",
          "text": [
            "Collecting pysam\n",
            "\u001b[?25l  Downloading https://files.pythonhosted.org/packages/20/85/335857b9888f6d9a13b03a8f21b0a6228b180c361631d9d70e7be3e22163/pysam-0.16.0.1-cp37-cp37m-manylinux1_x86_64.whl (9.9MB)\n",
            "\u001b[K     |████████████████████████████████| 9.9MB 4.3MB/s \n",
            "\u001b[?25hRequirement already satisfied: pandas in /usr/local/lib/python3.7/dist-packages (1.1.5)\n",
            "Requirement already satisfied: seaborn in /usr/local/lib/python3.7/dist-packages (0.11.1)\n",
            "Collecting graphkb\n",
            "  Downloading https://files.pythonhosted.org/packages/cc/34/48ec589f81fce66cc70053e666a7834c3a7f708cee9a101dfc3d90158fe6/graphkb-1.5.4-py3-none-any.whl\n",
            "Requirement already satisfied: pytz>=2017.2 in /usr/local/lib/python3.7/dist-packages (from pandas) (2018.9)\n",
            "Requirement already satisfied: python-dateutil>=2.7.3 in /usr/local/lib/python3.7/dist-packages (from pandas) (2.8.1)\n",
            "Requirement already satisfied: numpy>=1.15.4 in /usr/local/lib/python3.7/dist-packages (from pandas) (1.19.5)\n",
            "Requirement already satisfied: matplotlib>=2.2 in /usr/local/lib/python3.7/dist-packages (from seaborn) (3.2.2)\n",
            "Requirement already satisfied: scipy>=1.0 in /usr/local/lib/python3.7/dist-packages (from seaborn) (1.4.1)\n",
            "Requirement already satisfied: typing-extensions<4,>=3.7.4.2 in /usr/local/lib/python3.7/dist-packages (from graphkb) (3.7.4.3)\n",
            "Requirement already satisfied: requests<3,>=2.22.0 in /usr/local/lib/python3.7/dist-packages (from graphkb) (2.23.0)\n",
            "Requirement already satisfied: six>=1.5 in /usr/local/lib/python3.7/dist-packages (from python-dateutil>=2.7.3->pandas) (1.15.0)\n",
            "Requirement already satisfied: pyparsing!=2.0.4,!=2.1.2,!=2.1.6,>=2.0.1 in /usr/local/lib/python3.7/dist-packages (from matplotlib>=2.2->seaborn) (2.4.7)\n",
            "Requirement already satisfied: cycler>=0.10 in /usr/local/lib/python3.7/dist-packages (from matplotlib>=2.2->seaborn) (0.10.0)\n",
            "Requirement already satisfied: kiwisolver>=1.0.1 in /usr/local/lib/python3.7/dist-packages (from matplotlib>=2.2->seaborn) (1.3.1)\n",
            "Requirement already satisfied: chardet<4,>=3.0.2 in /usr/local/lib/python3.7/dist-packages (from requests<3,>=2.22.0->graphkb) (3.0.4)\n",
            "Requirement already satisfied: urllib3!=1.25.0,!=1.25.1,<1.26,>=1.21.1 in /usr/local/lib/python3.7/dist-packages (from requests<3,>=2.22.0->graphkb) (1.24.3)\n",
            "Requirement already satisfied: idna<3,>=2.5 in /usr/local/lib/python3.7/dist-packages (from requests<3,>=2.22.0->graphkb) (2.10)\n",
            "Requirement already satisfied: certifi>=2017.4.17 in /usr/local/lib/python3.7/dist-packages (from requests<3,>=2.22.0->graphkb) (2021.5.30)\n",
            "Installing collected packages: pysam, graphkb\n",
            "Successfully installed graphkb-1.5.4 pysam-0.16.0.1\n"
          ],
          "name": "stdout"
        }
      ]
    },
    {
      "cell_type": "markdown",
      "metadata": {
        "id": "8soGS4PMTWP9"
      },
      "source": [
        "## Prepare Canonical Transcripts List\n",
        "\n",
        "First we will read the tabbed biomart export file. This contains a list of gene and transcript IDs for only canonical transcripts. We'll use this to filter annotations in a later step"
      ]
    },
    {
      "cell_type": "code",
      "metadata": {
        "colab": {
          "base_uri": "https://localhost:8080/",
          "height": 416
        },
        "id": "_B8SyQk-TgBl",
        "outputId": "faa33e58-6cef-4aef-83e8-85ede0cc19e3"
      },
      "source": [
        "import pandas as pd \n",
        "\n",
        "mart_df = pd.read_csv('https://raw.githubusercontent.com/bcgsc/pori/feature/colab-notebooks/demo/mart_export.protein_coding.canonical.txt', sep='\\t')\n",
        "mart_df"
      ],
      "execution_count": null,
      "outputs": [
        {
          "output_type": "execute_result",
          "data": {
            "text/html": [
              "<div>\n",
              "<style scoped>\n",
              "    .dataframe tbody tr th:only-of-type {\n",
              "        vertical-align: middle;\n",
              "    }\n",
              "\n",
              "    .dataframe tbody tr th {\n",
              "        vertical-align: top;\n",
              "    }\n",
              "\n",
              "    .dataframe thead th {\n",
              "        text-align: right;\n",
              "    }\n",
              "</style>\n",
              "<table border=\"1\" class=\"dataframe\">\n",
              "  <thead>\n",
              "    <tr style=\"text-align: right;\">\n",
              "      <th></th>\n",
              "      <th>Gene stable ID version</th>\n",
              "      <th>Transcript stable ID version</th>\n",
              "    </tr>\n",
              "  </thead>\n",
              "  <tbody>\n",
              "    <tr>\n",
              "      <th>0</th>\n",
              "      <td>ENSG00000198888.2</td>\n",
              "      <td>ENST00000361390.2</td>\n",
              "    </tr>\n",
              "    <tr>\n",
              "      <th>1</th>\n",
              "      <td>ENSG00000198763.3</td>\n",
              "      <td>ENST00000361453.3</td>\n",
              "    </tr>\n",
              "    <tr>\n",
              "      <th>2</th>\n",
              "      <td>ENSG00000198804.2</td>\n",
              "      <td>ENST00000361624.2</td>\n",
              "    </tr>\n",
              "    <tr>\n",
              "      <th>3</th>\n",
              "      <td>ENSG00000198712.1</td>\n",
              "      <td>ENST00000361739.1</td>\n",
              "    </tr>\n",
              "    <tr>\n",
              "      <th>4</th>\n",
              "      <td>ENSG00000228253.1</td>\n",
              "      <td>ENST00000361851.1</td>\n",
              "    </tr>\n",
              "    <tr>\n",
              "      <th>...</th>\n",
              "      <td>...</td>\n",
              "      <td>...</td>\n",
              "    </tr>\n",
              "    <tr>\n",
              "      <th>22791</th>\n",
              "      <td>ENSG00000181817.6</td>\n",
              "      <td>ENST00000315732.3</td>\n",
              "    </tr>\n",
              "    <tr>\n",
              "      <th>22792</th>\n",
              "      <td>ENSG00000116885.18</td>\n",
              "      <td>ENST00000235532.9</td>\n",
              "    </tr>\n",
              "    <tr>\n",
              "      <th>22793</th>\n",
              "      <td>ENSG00000116898.12</td>\n",
              "      <td>ENST00000373116.6</td>\n",
              "    </tr>\n",
              "    <tr>\n",
              "      <th>22794</th>\n",
              "      <td>ENSG00000119535.18</td>\n",
              "      <td>ENST00000373106.6</td>\n",
              "    </tr>\n",
              "    <tr>\n",
              "      <th>22795</th>\n",
              "      <td>ENSG00000142694.7</td>\n",
              "      <td>ENST00000490466.2</td>\n",
              "    </tr>\n",
              "  </tbody>\n",
              "</table>\n",
              "<p>22796 rows × 2 columns</p>\n",
              "</div>"
            ],
            "text/plain": [
              "      Gene stable ID version Transcript stable ID version\n",
              "0          ENSG00000198888.2            ENST00000361390.2\n",
              "1          ENSG00000198763.3            ENST00000361453.3\n",
              "2          ENSG00000198804.2            ENST00000361624.2\n",
              "3          ENSG00000198712.1            ENST00000361739.1\n",
              "4          ENSG00000228253.1            ENST00000361851.1\n",
              "...                      ...                          ...\n",
              "22791      ENSG00000181817.6            ENST00000315732.3\n",
              "22792     ENSG00000116885.18            ENST00000235532.9\n",
              "22793     ENSG00000116898.12            ENST00000373116.6\n",
              "22794     ENSG00000119535.18            ENST00000373106.6\n",
              "22795      ENSG00000142694.7            ENST00000490466.2\n",
              "\n",
              "[22796 rows x 2 columns]"
            ]
          },
          "metadata": {
            "tags": []
          },
          "execution_count": 86
        }
      ]
    },
    {
      "cell_type": "markdown",
      "metadata": {
        "id": "PlGp1o0TTxch"
      },
      "source": [
        "In this case we know that the transcripts in our VCF are unversioned so we will store the transcript names without their versions as well for quick access in later steps"
      ]
    },
    {
      "cell_type": "code",
      "metadata": {
        "colab": {
          "base_uri": "https://localhost:8080/"
        },
        "id": "8l5IbFlGT4mP",
        "outputId": "ad371c5a-c266-49fd-985f-001fa86e5651"
      },
      "source": [
        "mart_df['unversioned'] = mart_df['Transcript stable ID version'].str.split('.').str[0]\n",
        "canonical_transcripts = set(mart_df['Transcript stable ID version'].unique().tolist() + mart_df['unversioned'].unique().tolist())\n",
        "len(canonical_transcripts)"
      ],
      "execution_count": null,
      "outputs": [
        {
          "output_type": "execute_result",
          "data": {
            "text/plain": [
              "45592"
            ]
          },
          "metadata": {
            "tags": []
          },
          "execution_count": 42
        }
      ]
    },
    {
      "cell_type": "markdown",
      "metadata": {
        "id": "Js7cQNsTtb49"
      },
      "source": [
        "## Process the VCF\n",
        "\n",
        "Then we are ready to read the VCF file as input"
      ]
    },
    {
      "cell_type": "code",
      "metadata": {
        "colab": {
          "base_uri": "https://localhost:8080/"
        },
        "id": "b_tIKRUJtaBC",
        "outputId": "63a1722e-fbde-4102-ee28-476e0e49153c"
      },
      "source": [
        "!wget https://raw.githubusercontent.com/bcgsc/pori/feature/colab-notebooks/demo/example_snvs.variants.passed.4.3.eff.hgvs.vcf"
      ],
      "execution_count": null,
      "outputs": [
        {
          "output_type": "stream",
          "text": [
            "--2021-06-17 20:42:11--  https://raw.githubusercontent.com/bcgsc/pori/feature/colab-notebooks/demo/example_snvs.variants.passed.4.3.eff.hgvs.vcf\n",
            "Resolving raw.githubusercontent.com (raw.githubusercontent.com)... 185.199.108.133, 185.199.109.133, 185.199.110.133, ...\n",
            "Connecting to raw.githubusercontent.com (raw.githubusercontent.com)|185.199.108.133|:443... connected.\n",
            "HTTP request sent, awaiting response... 200 OK\n",
            "Length: 387417 (378K) [text/plain]\n",
            "Saving to: ‘example_snvs.variants.passed.4.3.eff.hgvs.vcf.1’\n",
            "\n",
            "example_snvs.varian 100%[===================>] 378.34K  --.-KB/s    in 0.04s   \n",
            "\n",
            "2021-06-17 20:42:12 (8.94 MB/s) - ‘example_snvs.variants.passed.4.3.eff.hgvs.vcf.1’ saved [387417/387417]\n",
            "\n"
          ],
          "name": "stdout"
        }
      ]
    },
    {
      "cell_type": "code",
      "metadata": {
        "id": "-VuAvyfHtsN5"
      },
      "source": [
        "from pysam import VariantFile\n",
        "\n",
        "fh = VariantFile('/content/example_snvs.variants.passed.4.3.eff.hgvs.vcf')"
      ],
      "execution_count": null,
      "outputs": []
    },
    {
      "cell_type": "markdown",
      "metadata": {
        "id": "kfyUYhNUvt2H"
      },
      "source": [
        "Then we will iterate over the variant VCF records. From here we will need to pull out the HGVSp notation. Since this is output from SnpEff we can refer to their [documentation](https://pcingola.github.io/SnpEff/se_inputoutput/#eff-field-vcf-output-files) for how to parse this. According to their site this is the expected format of the `EFF` field which contains the HGVS notation. This field is pipe delimited inside parentheses.\n",
        "\n",
        "```text\n",
        "EFF= Effect ( Effect_Impact | Functional_Class | Codon_Change | Amino_Acid_Change| Amino_Acid_Length | Gene_Name | Transcript_BioType | Gene_Coding | Transcript_ID | Exon_Rank  | Genotype_Number [ | ERRORS | WARNINGS ] )\n",
        "```\n",
        "\n",
        "**Note**: EFF is a deprecated field. Newer versions use the `ANN` field. Parsing should be similar.\n",
        "\n",
        "We define the following functions below to help with parsing the INFO fields in the VCF"
      ]
    },
    {
      "cell_type": "markdown",
      "metadata": {
        "id": "6IyqnAROXl_c"
      },
      "source": [
        ""
      ]
    },
    {
      "cell_type": "code",
      "metadata": {
        "id": "fXw09yCzv0FB"
      },
      "source": [
        "import re \n",
        "\n",
        "\n",
        "def parse_eff(eff):\n",
        "  match = re.match(r'^[^(]+\\((.+)\\)$', eff)\n",
        "  if match:\n",
        "    [impact, functional_class, codon_change, aa_change, _, gene_name, transcript_biotype, gene_coding, transcript_id, _, genotype_allele ] = match.group(1).split('|')[:11]\n",
        "\n",
        "    changes = aa_change.split('/')\n",
        "    protein_changes = [p for p in changes if p.startswith('p.')]\n",
        "    cds_changes = [p for p in changes if p.startswith('c.')]\n",
        "    \n",
        "    return [\n",
        "      impact, \n",
        "      gene_name,\n",
        "      transcript_biotype,\n",
        "      gene_coding, \n",
        "      transcript_id, \n",
        "      protein_changes[0] if protein_changes else None, \n",
        "      cds_changes[0] if cds_changes else None,\n",
        "      genotype_allele\n",
        "    ]\n",
        "  raise NotImplementedError('cannot parse eff string. Does not match the expected pattern')\n"
      ],
      "execution_count": null,
      "outputs": []
    },
    {
      "cell_type": "markdown",
      "metadata": {
        "id": "nZLx2prpw3zP"
      },
      "source": [
        "Now we want to convert the parsed content into a JSON/Dict to match the fields that we expect in IPR. If you are not uploading to IPR you can leave variants in their original format instead.\n",
        "\n",
        "**Note**: Some of the fields (support counts) require picking the samples. By default we have assumed the names are NORMAL and TUMOR. These may need to be customized for other input"
      ]
    },
    {
      "cell_type": "code",
      "metadata": {
        "colab": {
          "base_uri": "https://localhost:8080/",
          "height": 436
        },
        "id": "E924cUV1xDAL",
        "outputId": "9e9fd26d-3de7-40eb-f2d7-8875fdc85a59"
      },
      "source": [
        "from graphkb.util import convert_aa_3to1\n",
        "\n",
        "\n",
        "def pick_effect(record):\n",
        "  non_canonical = []\n",
        "\n",
        "  for eff in record.info['EFF']:\n",
        "    [impact, gene_name, transcript_biotype, gene_coding, transcript_id, protein_change, cds_change, alt_allele] = parse_eff(eff)\n",
        "    \n",
        "    # prefer canonical annotation\n",
        "    if transcript_id in canonical_transcripts:\n",
        "      return [impact, gene_name, transcript_biotype, gene_coding, transcript_id, protein_change, cds_change, alt_allele]\n",
        "    non_canonical.append([impact, gene_name, transcript_biotype, gene_coding, transcript_id, protein_change, cds_change, alt_allele])\n",
        "      \n",
        "  return non_canonical[0]\n",
        "\n",
        "\n",
        "\n",
        "ipr_variants = []\n",
        "\n",
        "for record in fh.fetch():\n",
        "  tumour_sample = get_sample_by_name(record, 'TUMOR')\n",
        "  normal_sample = record.samples['NORMAL']\n",
        "  ref_key = f'{record.ref}U'\n",
        "\n",
        "  no_canonical = True\n",
        "\n",
        "  [impact, gene_name, transcript_biotype, gene_coding, transcript_id, protein_change, cds_change, alt_allele] = pick_effect(record)\n",
        "\n",
        "\n",
        "\n",
        "  alt_key = f'{alt_allele}U'\n",
        "  if protein_change:\n",
        "    protein_change = convert_aa_3to1(protein_change)\n",
        "  \n",
        "\n",
        "  # convert variant string from 3 to 1 letter AA if it is protein notation\n",
        "  ipr_format = {\n",
        "      'gene': gene_name,\n",
        "      'transcript': transcript_id,\n",
        "      'chromosome': record.chrom,\n",
        "      'startPosition': record.pos,\n",
        "      'endPosition': record.pos + record.rlen,\n",
        "      'proteinChange': protein_change or cds_change,  # if no protein change use cds here instead\n",
        "      'refSeq': record.ref,\n",
        "      'altSeq': alt_allele,\n",
        "      'tumourDepth': tumour_sample['DP'],\n",
        "      'normalDepth': normal_sample['DP'],\n",
        "      'normalRefCount': normal_sample[ref_key],\n",
        "      'normalAltCount': normal_sample[alt_key],\n",
        "      'tumourRefCount': tumour_sample[ref_key],\n",
        "      'tumourAltCount': tumour_sample[alt_key],\n",
        "      'hgvsProtein': f'{gene_name}:{protein_change}' if protein_change else '',\n",
        "      'hgvsCds': f'{transcript_id}:{cds_change}' if cds_change else ''\n",
        "  }\n",
        "  ipr_variants.append(ipr_format)\n",
        "\n",
        "# just for displaying in notebook\n",
        "variants_df = pd.DataFrame.from_records(ipr_variants)\n",
        "variants_df"
      ],
      "execution_count": null,
      "outputs": [
        {
          "output_type": "execute_result",
          "data": {
            "text/html": [
              "<div>\n",
              "<style scoped>\n",
              "    .dataframe tbody tr th:only-of-type {\n",
              "        vertical-align: middle;\n",
              "    }\n",
              "\n",
              "    .dataframe tbody tr th {\n",
              "        vertical-align: top;\n",
              "    }\n",
              "\n",
              "    .dataframe thead th {\n",
              "        text-align: right;\n",
              "    }\n",
              "</style>\n",
              "<table border=\"1\" class=\"dataframe\">\n",
              "  <thead>\n",
              "    <tr style=\"text-align: right;\">\n",
              "      <th></th>\n",
              "      <th>gene</th>\n",
              "      <th>transcript</th>\n",
              "      <th>chromosome</th>\n",
              "      <th>startPosition</th>\n",
              "      <th>endPosition</th>\n",
              "      <th>proteinChange</th>\n",
              "      <th>refSeq</th>\n",
              "      <th>altSeq</th>\n",
              "      <th>tumourDepth</th>\n",
              "      <th>normalDepth</th>\n",
              "      <th>normalRefCount</th>\n",
              "      <th>normalAltCount</th>\n",
              "      <th>tumourRefCount</th>\n",
              "      <th>tumourAltCount</th>\n",
              "      <th>hgvsProtein</th>\n",
              "      <th>hgvsCds</th>\n",
              "    </tr>\n",
              "  </thead>\n",
              "  <tbody>\n",
              "    <tr>\n",
              "      <th>0</th>\n",
              "      <td>NOC2L</td>\n",
              "      <td>ENST00000327044</td>\n",
              "      <td>1</td>\n",
              "      <td>883516</td>\n",
              "      <td>883517</td>\n",
              "      <td>p.L552L</td>\n",
              "      <td>G</td>\n",
              "      <td>A</td>\n",
              "      <td>69</td>\n",
              "      <td>44</td>\n",
              "      <td>(42, 45)</td>\n",
              "      <td>(0, 0)</td>\n",
              "      <td>(16, 16)</td>\n",
              "      <td>(53, 56)</td>\n",
              "      <td>NOC2L:p.L552L</td>\n",
              "      <td>ENST00000327044:c.1654C&gt;T</td>\n",
              "    </tr>\n",
              "    <tr>\n",
              "      <th>1</th>\n",
              "      <td>ATAD3B</td>\n",
              "      <td>ENST00000378741</td>\n",
              "      <td>1</td>\n",
              "      <td>1418472</td>\n",
              "      <td>1418473</td>\n",
              "      <td>p.R114*</td>\n",
              "      <td>A</td>\n",
              "      <td>T</td>\n",
              "      <td>41</td>\n",
              "      <td>33</td>\n",
              "      <td>(31, 33)</td>\n",
              "      <td>(0, 0)</td>\n",
              "      <td>(29, 34)</td>\n",
              "      <td>(10, 14)</td>\n",
              "      <td>ATAD3B:p.R114*</td>\n",
              "      <td>ENST00000378741:c.340A&gt;T</td>\n",
              "    </tr>\n",
              "    <tr>\n",
              "      <th>2</th>\n",
              "      <td>PRDM16</td>\n",
              "      <td>ENST00000270722</td>\n",
              "      <td>1</td>\n",
              "      <td>3329312</td>\n",
              "      <td>3329313</td>\n",
              "      <td>p.P851S</td>\n",
              "      <td>C</td>\n",
              "      <td>T</td>\n",
              "      <td>52</td>\n",
              "      <td>49</td>\n",
              "      <td>(47, 49)</td>\n",
              "      <td>(2, 2)</td>\n",
              "      <td>(40, 44)</td>\n",
              "      <td>(10, 10)</td>\n",
              "      <td>PRDM16:p.P851S</td>\n",
              "      <td>ENST00000270722:c.2551C&gt;T</td>\n",
              "    </tr>\n",
              "    <tr>\n",
              "      <th>3</th>\n",
              "      <td>TNFRSF8</td>\n",
              "      <td>ENST00000263932</td>\n",
              "      <td>1</td>\n",
              "      <td>12170228</td>\n",
              "      <td>12170229</td>\n",
              "      <td>p.P215S</td>\n",
              "      <td>C</td>\n",
              "      <td>T</td>\n",
              "      <td>57</td>\n",
              "      <td>26</td>\n",
              "      <td>(24, 27)</td>\n",
              "      <td>(0, 1)</td>\n",
              "      <td>(12, 12)</td>\n",
              "      <td>(43, 44)</td>\n",
              "      <td>TNFRSF8:p.P215S</td>\n",
              "      <td>ENST00000263932:c.643C&gt;T</td>\n",
              "    </tr>\n",
              "    <tr>\n",
              "      <th>4</th>\n",
              "      <td>CLCNKB</td>\n",
              "      <td>ENST00000375679</td>\n",
              "      <td>1</td>\n",
              "      <td>16372084</td>\n",
              "      <td>16372085</td>\n",
              "      <td>p.F44F</td>\n",
              "      <td>C</td>\n",
              "      <td>T</td>\n",
              "      <td>70</td>\n",
              "      <td>51</td>\n",
              "      <td>(51, 52)</td>\n",
              "      <td>(0, 0)</td>\n",
              "      <td>(50, 51)</td>\n",
              "      <td>(18, 19)</td>\n",
              "      <td>CLCNKB:p.F44F</td>\n",
              "      <td>ENST00000375679:c.132C&gt;T</td>\n",
              "    </tr>\n",
              "    <tr>\n",
              "      <th>...</th>\n",
              "      <td>...</td>\n",
              "      <td>...</td>\n",
              "      <td>...</td>\n",
              "      <td>...</td>\n",
              "      <td>...</td>\n",
              "      <td>...</td>\n",
              "      <td>...</td>\n",
              "      <td>...</td>\n",
              "      <td>...</td>\n",
              "      <td>...</td>\n",
              "      <td>...</td>\n",
              "      <td>...</td>\n",
              "      <td>...</td>\n",
              "      <td>...</td>\n",
              "      <td>...</td>\n",
              "      <td>...</td>\n",
              "    </tr>\n",
              "    <tr>\n",
              "      <th>410</th>\n",
              "      <td>ZNF280C</td>\n",
              "      <td>ENST00000370978</td>\n",
              "      <td>X</td>\n",
              "      <td>129362963</td>\n",
              "      <td>129362964</td>\n",
              "      <td>p.H379Y</td>\n",
              "      <td>G</td>\n",
              "      <td>A</td>\n",
              "      <td>40</td>\n",
              "      <td>19</td>\n",
              "      <td>(19, 21)</td>\n",
              "      <td>(0, 0)</td>\n",
              "      <td>(0, 0)</td>\n",
              "      <td>(39, 42)</td>\n",
              "      <td>ZNF280C:p.H379Y</td>\n",
              "      <td>ENST00000370978:c.1135C&gt;T</td>\n",
              "    </tr>\n",
              "    <tr>\n",
              "      <th>411</th>\n",
              "      <td>ZNF280C</td>\n",
              "      <td>ENST00000370978</td>\n",
              "      <td>X</td>\n",
              "      <td>129362964</td>\n",
              "      <td>129362965</td>\n",
              "      <td>p.P378P</td>\n",
              "      <td>G</td>\n",
              "      <td>A</td>\n",
              "      <td>40</td>\n",
              "      <td>19</td>\n",
              "      <td>(19, 21)</td>\n",
              "      <td>(0, 0)</td>\n",
              "      <td>(0, 1)</td>\n",
              "      <td>(39, 41)</td>\n",
              "      <td>ZNF280C:p.P378P</td>\n",
              "      <td>ENST00000370978:c.1134C&gt;T</td>\n",
              "    </tr>\n",
              "    <tr>\n",
              "      <th>412</th>\n",
              "      <td>PNMA3</td>\n",
              "      <td>ENST00000370264</td>\n",
              "      <td>X</td>\n",
              "      <td>152226437</td>\n",
              "      <td>152226438</td>\n",
              "      <td>p.P342L</td>\n",
              "      <td>C</td>\n",
              "      <td>T</td>\n",
              "      <td>60</td>\n",
              "      <td>28</td>\n",
              "      <td>(28, 32)</td>\n",
              "      <td>(0, 0)</td>\n",
              "      <td>(0, 1)</td>\n",
              "      <td>(57, 61)</td>\n",
              "      <td>PNMA3:p.P342L</td>\n",
              "      <td>ENST00000370264:c.1025C&gt;T</td>\n",
              "    </tr>\n",
              "    <tr>\n",
              "      <th>413</th>\n",
              "      <td>WASH6P</td>\n",
              "      <td>ENST00000359512</td>\n",
              "      <td>X</td>\n",
              "      <td>155253820</td>\n",
              "      <td>155253821</td>\n",
              "      <td>p.G373S</td>\n",
              "      <td>G</td>\n",
              "      <td>A</td>\n",
              "      <td>74</td>\n",
              "      <td>40</td>\n",
              "      <td>(39, 59)</td>\n",
              "      <td>(0, 1)</td>\n",
              "      <td>(61, 114)</td>\n",
              "      <td>(9, 20)</td>\n",
              "      <td>WASH6P:p.G373S</td>\n",
              "      <td>ENST00000359512:c.1117G&gt;A</td>\n",
              "    </tr>\n",
              "    <tr>\n",
              "      <th>414</th>\n",
              "      <td>AC134882.1</td>\n",
              "      <td>ENST00000331172</td>\n",
              "      <td>Y</td>\n",
              "      <td>13524548</td>\n",
              "      <td>13524549</td>\n",
              "      <td>p.Y57S</td>\n",
              "      <td>T</td>\n",
              "      <td>G</td>\n",
              "      <td>15</td>\n",
              "      <td>15</td>\n",
              "      <td>(13, 13)</td>\n",
              "      <td>(2, 3)</td>\n",
              "      <td>(0, 0)</td>\n",
              "      <td>(14, 26)</td>\n",
              "      <td>AC134882.1:p.Y57S</td>\n",
              "      <td>ENST00000331172:c.170A&gt;C</td>\n",
              "    </tr>\n",
              "  </tbody>\n",
              "</table>\n",
              "<p>415 rows × 16 columns</p>\n",
              "</div>"
            ],
            "text/plain": [
              "           gene       transcript  ...        hgvsProtein                    hgvsCds\n",
              "0         NOC2L  ENST00000327044  ...      NOC2L:p.L552L  ENST00000327044:c.1654C>T\n",
              "1        ATAD3B  ENST00000378741  ...     ATAD3B:p.R114*   ENST00000378741:c.340A>T\n",
              "2        PRDM16  ENST00000270722  ...     PRDM16:p.P851S  ENST00000270722:c.2551C>T\n",
              "3       TNFRSF8  ENST00000263932  ...    TNFRSF8:p.P215S   ENST00000263932:c.643C>T\n",
              "4        CLCNKB  ENST00000375679  ...      CLCNKB:p.F44F   ENST00000375679:c.132C>T\n",
              "..          ...              ...  ...                ...                        ...\n",
              "410     ZNF280C  ENST00000370978  ...    ZNF280C:p.H379Y  ENST00000370978:c.1135C>T\n",
              "411     ZNF280C  ENST00000370978  ...    ZNF280C:p.P378P  ENST00000370978:c.1134C>T\n",
              "412       PNMA3  ENST00000370264  ...      PNMA3:p.P342L  ENST00000370264:c.1025C>T\n",
              "413      WASH6P  ENST00000359512  ...     WASH6P:p.G373S  ENST00000359512:c.1117G>A\n",
              "414  AC134882.1  ENST00000331172  ...  AC134882.1:p.Y57S   ENST00000331172:c.170A>C\n",
              "\n",
              "[415 rows x 16 columns]"
            ]
          },
          "metadata": {
            "tags": []
          },
          "execution_count": 91
        }
      ]
    },
    {
      "cell_type": "markdown",
      "metadata": {
        "id": "1GufvJp8Wr3n"
      },
      "source": [
        "## Annotate\n",
        "\n",
        "Now we are ready to add GraphKB annotations. First connect to the API. Here we are using the demo credentials. \n",
        "\n",
        "If you were uploading to IPR you would skip this step and just input the variants. The IPR python adaptor performs matching against GraphKB prior to uploading the report.\n",
        "\n",
        "**NOTE**: The demo server is incomplete. It contains a small subset of the data we would expect in a normal production instance of GraphKB and should be used for demonstration and testing only"
      ]
    },
    {
      "cell_type": "code",
      "metadata": {
        "id": "Ej0A1H3VXCX-"
      },
      "source": [
        "from graphkb import GraphKBConnection\n",
        "\n",
        "GKB_API_URL = 'https://pori-demo.bcgsc.ca/graphkb-api/api'\n",
        "GKB_USER = 'colab_demo'\n",
        "GKB_PASSWORD = 'colab_demo'\n",
        "\n",
        "graphkb_conn = GraphKBConnection(GKB_API_URL, use_global_cache=False)\n",
        "\n",
        "graphkb_conn.login(GKB_USER, GKB_PASSWORD)"
      ],
      "execution_count": null,
      "outputs": []
    },
    {
      "cell_type": "markdown",
      "metadata": {
        "id": "E4fA3kXbXWXl"
      },
      "source": [
        "Now use the matching functions to get the equivalent variant forms from GraphKB. This may take several minutes on the demo server as it has limited resources and open access."
      ]
    },
    {
      "cell_type": "code",
      "metadata": {
        "colab": {
          "base_uri": "https://localhost:8080/"
        },
        "id": "Vnd5XuTyXz_b",
        "outputId": "60069fec-168b-465b-acb5-2c77a5ec23e1"
      },
      "source": [
        "from graphkb.match import match_positional_variant\n",
        "from graphkb.util import FeatureNotFoundError\n",
        "\n",
        "for variant in ipr_variants:\n",
        "  # for the purposes of this tutorial we will skip non-protein changes for now\n",
        "  if not variant['hgvsProtein']:\n",
        "    continue\n",
        "  variant_name = variant['gene'] + ':' + variant['proteinChange']\n",
        "  try:\n",
        "    variant_matches = match_positional_variant(graphkb_conn, variant_name)\n",
        "    variant['_variantMatches'] = variant_matches\n",
        "    if variant_matches:\n",
        "      print(f'{variant_name} matched {len(variant_matches)} other variant representations')\n",
        "  except FeatureNotFoundError:\n",
        "    pass # if the gene isn't in the db, there will not be annotations\n",
        "  except Exception as err:\n",
        "    print(variant_name, err)\n",
        "\n",
        "print(f'queried {len(ipr_variants)} variants')"
      ],
      "execution_count": null,
      "outputs": [
        {
          "output_type": "stream",
          "text": [
            "SF3B1:p.P718L matched 1 other variant representations\n",
            "STK19:p.D89N matched 2 other variant representations\n",
            "BRAF:p.V600E matched 6 other variant representations\n",
            "queried 415 variants\n"
          ],
          "name": "stdout"
        }
      ]
    },
    {
      "cell_type": "markdown",
      "metadata": {
        "id": "qlk8Ubk1X0gH"
      },
      "source": [
        "Now that we have matched the variant we will fetch the related statements to annotate this variant with its possible relevance"
      ]
    },
    {
      "cell_type": "code",
      "metadata": {
        "colab": {
          "base_uri": "https://localhost:8080/"
        },
        "id": "kuI8f-mGYfvc",
        "outputId": "c573b650-a6ea-4cf8-c620-d7ab6910e4a3"
      },
      "source": [
        "from graphkb.constants import BASE_RETURN_PROPERTIES, GENERIC_RETURN_PROPERTIES\n",
        "from graphkb.util import convert_to_rid_list\n",
        "\n",
        "# return properties should be customized to the users needs\n",
        "return_props = (\n",
        "    BASE_RETURN_PROPERTIES\n",
        "    + ['sourceId', 'source.name', 'source.displayName']\n",
        "    + [f'conditions.{p}' for p in GENERIC_RETURN_PROPERTIES]\n",
        "    + [f'subject.{p}' for p in GENERIC_RETURN_PROPERTIES]\n",
        "    + [f'evidence.{p}' for p in GENERIC_RETURN_PROPERTIES]\n",
        "    + [f'relevance.{p}' for p in GENERIC_RETURN_PROPERTIES]\n",
        "    + [f'evidenceLevel.{p}' for p in GENERIC_RETURN_PROPERTIES]\n",
        ")\n",
        "\n",
        "results = []\n",
        "\n",
        "for variant in ipr_variants:\n",
        "  if not variant.get('_variantMatches'):\n",
        "    continue\n",
        "  variant_name = variant['gene'] + ':' + variant['proteinChange']\n",
        "  variant_matches = variant['_variantMatches']\n",
        "  statements = graphkb_conn.query(\n",
        "      {\n",
        "          'target': 'Statement',\n",
        "          'filters': {'conditions': convert_to_rid_list(variant_matches), 'operator': 'CONTAINSANY'},\n",
        "          'returnProperties': return_props,\n",
        "      }\n",
        "  )\n",
        "  print(variant_name)\n",
        "  print(f'annotated {len(variant_matches)} variant matches with {len(statements)} statements')\n",
        "  print()\n",
        "\n",
        "  for statement in statements:\n",
        "      results.append((\n",
        "          variant_name, \n",
        "          len(variant_matches), \n",
        "          ';'.join([c['displayName'] for c in statement['conditions'] if c['@class'].endswith('Variant')]),\n",
        "          statement['relevance']['displayName'],\n",
        "          statement['subject']['displayName'],\n",
        "          statement['source']['displayName'] if statement['source'] else '',\n",
        "          ';'.join([c['displayName'] for c in statement['evidence']])\n",
        "      ))"
      ],
      "execution_count": null,
      "outputs": [
        {
          "output_type": "stream",
          "text": [
            "SF3B1:p.P718L\n",
            "annotated 1 variant matches with 5 statements\n",
            "\n",
            "STK19:p.D89N\n",
            "annotated 2 variant matches with 2 statements\n",
            "\n",
            "BRAF:p.V600E\n",
            "annotated 6 variant matches with 135 statements\n",
            "\n"
          ],
          "name": "stdout"
        }
      ]
    },
    {
      "cell_type": "markdown",
      "metadata": {
        "id": "k98mrA4lsTSp"
      },
      "source": [
        "Now we will put this into a dataframe to display nicely in this notebook"
      ]
    },
    {
      "cell_type": "code",
      "metadata": {
        "colab": {
          "base_uri": "https://localhost:8080/",
          "height": 609
        },
        "id": "bZNTeFPlsbJH",
        "outputId": "cc289c04-5f50-406a-ea20-0d64c744d373"
      },
      "source": [
        "df = pd.DataFrame(results, columns=['variant_name', 'variant_matches', 'statement_variants', 'relevance', 'subject', 'statement_source', 'evidence'])\n",
        "df"
      ],
      "execution_count": null,
      "outputs": [
        {
          "output_type": "execute_result",
          "data": {
            "text/html": [
              "<div>\n",
              "<style scoped>\n",
              "    .dataframe tbody tr th:only-of-type {\n",
              "        vertical-align: middle;\n",
              "    }\n",
              "\n",
              "    .dataframe tbody tr th {\n",
              "        vertical-align: top;\n",
              "    }\n",
              "\n",
              "    .dataframe thead th {\n",
              "        text-align: right;\n",
              "    }\n",
              "</style>\n",
              "<table border=\"1\" class=\"dataframe\">\n",
              "  <thead>\n",
              "    <tr style=\"text-align: right;\">\n",
              "      <th></th>\n",
              "      <th>variant_name</th>\n",
              "      <th>variant_matches</th>\n",
              "      <th>statement_variants</th>\n",
              "      <th>relevance</th>\n",
              "      <th>subject</th>\n",
              "      <th>statement_source</th>\n",
              "      <th>evidence</th>\n",
              "    </tr>\n",
              "  </thead>\n",
              "  <tbody>\n",
              "    <tr>\n",
              "      <th>0</th>\n",
              "      <td>SF3B1:p.P718L</td>\n",
              "      <td>1</td>\n",
              "      <td>SF3B1 mutation</td>\n",
              "      <td>favourable prognosis</td>\n",
              "      <td>patient</td>\n",
              "      <td>CIViC</td>\n",
              "      <td>pmid:21995386</td>\n",
              "    </tr>\n",
              "    <tr>\n",
              "      <th>1</th>\n",
              "      <td>SF3B1:p.P718L</td>\n",
              "      <td>1</td>\n",
              "      <td>SF3B1 mutation</td>\n",
              "      <td>unfavourable prognosis</td>\n",
              "      <td>patient</td>\n",
              "      <td>CIViC</td>\n",
              "      <td>pmid:26837699</td>\n",
              "    </tr>\n",
              "    <tr>\n",
              "      <th>2</th>\n",
              "      <td>SF3B1:p.P718L</td>\n",
              "      <td>1</td>\n",
              "      <td>SF3B1 mutation</td>\n",
              "      <td>unfavourable prognosis</td>\n",
              "      <td>patient</td>\n",
              "      <td>CIViC</td>\n",
              "      <td>pmid:24943832</td>\n",
              "    </tr>\n",
              "    <tr>\n",
              "      <th>3</th>\n",
              "      <td>SF3B1:p.P718L</td>\n",
              "      <td>1</td>\n",
              "      <td>SF3B1 mutation</td>\n",
              "      <td>unfavourable prognosis</td>\n",
              "      <td>patient</td>\n",
              "      <td>CIViC</td>\n",
              "      <td>pmid:23086750</td>\n",
              "    </tr>\n",
              "    <tr>\n",
              "      <th>4</th>\n",
              "      <td>SF3B1:p.P718L</td>\n",
              "      <td>1</td>\n",
              "      <td>SF3B1 mutation</td>\n",
              "      <td>unfavourable prognosis</td>\n",
              "      <td>patient</td>\n",
              "      <td>CIViC</td>\n",
              "      <td>pmid:23568491</td>\n",
              "    </tr>\n",
              "    <tr>\n",
              "      <th>...</th>\n",
              "      <td>...</td>\n",
              "      <td>...</td>\n",
              "      <td>...</td>\n",
              "      <td>...</td>\n",
              "      <td>...</td>\n",
              "      <td>...</td>\n",
              "      <td>...</td>\n",
              "    </tr>\n",
              "    <tr>\n",
              "      <th>137</th>\n",
              "      <td>BRAF:p.V600E</td>\n",
              "      <td>6</td>\n",
              "      <td>BRAF mutation</td>\n",
              "      <td>resistance</td>\n",
              "      <td>Irinotecan [c62040]</td>\n",
              "      <td>CIViC</td>\n",
              "      <td>pmid:19603024</td>\n",
              "    </tr>\n",
              "    <tr>\n",
              "      <th>138</th>\n",
              "      <td>BRAF:p.V600E</td>\n",
              "      <td>6</td>\n",
              "      <td>BRAF mutation</td>\n",
              "      <td>resistance</td>\n",
              "      <td>Oxaliplatin [c1181]</td>\n",
              "      <td>CIViC</td>\n",
              "      <td>pmid:19603024</td>\n",
              "    </tr>\n",
              "    <tr>\n",
              "      <th>139</th>\n",
              "      <td>BRAF:p.V600E</td>\n",
              "      <td>6</td>\n",
              "      <td>BRAF mutation</td>\n",
              "      <td>unfavourable prognosis</td>\n",
              "      <td>patient</td>\n",
              "      <td>CIViC</td>\n",
              "      <td>pmid:19603024</td>\n",
              "    </tr>\n",
              "    <tr>\n",
              "      <th>140</th>\n",
              "      <td>BRAF:p.V600E</td>\n",
              "      <td>6</td>\n",
              "      <td>BRAF mutation</td>\n",
              "      <td>resistance</td>\n",
              "      <td>cetuximab + chemotherapy</td>\n",
              "      <td>CIViC</td>\n",
              "      <td>pmid:20619739</td>\n",
              "    </tr>\n",
              "    <tr>\n",
              "      <th>141</th>\n",
              "      <td>BRAF:p.V600E</td>\n",
              "      <td>6</td>\n",
              "      <td>BRAF mutation</td>\n",
              "      <td>resistance</td>\n",
              "      <td>Cetuximab [c1723]</td>\n",
              "      <td>CIViC</td>\n",
              "      <td>pmid:22586653</td>\n",
              "    </tr>\n",
              "  </tbody>\n",
              "</table>\n",
              "<p>142 rows × 7 columns</p>\n",
              "</div>"
            ],
            "text/plain": [
              "      variant_name  variant_matches  ... statement_source       evidence\n",
              "0    SF3B1:p.P718L                1  ...            CIViC  pmid:21995386\n",
              "1    SF3B1:p.P718L                1  ...            CIViC  pmid:26837699\n",
              "2    SF3B1:p.P718L                1  ...            CIViC  pmid:24943832\n",
              "3    SF3B1:p.P718L                1  ...            CIViC  pmid:23086750\n",
              "4    SF3B1:p.P718L                1  ...            CIViC  pmid:23568491\n",
              "..             ...              ...  ...              ...            ...\n",
              "137   BRAF:p.V600E                6  ...            CIViC  pmid:19603024\n",
              "138   BRAF:p.V600E                6  ...            CIViC  pmid:19603024\n",
              "139   BRAF:p.V600E                6  ...            CIViC  pmid:19603024\n",
              "140   BRAF:p.V600E                6  ...            CIViC  pmid:20619739\n",
              "141   BRAF:p.V600E                6  ...            CIViC  pmid:22586653\n",
              "\n",
              "[142 rows x 7 columns]"
            ]
          },
          "metadata": {
            "tags": []
          },
          "execution_count": 85
        }
      ]
    }
  ]
}
