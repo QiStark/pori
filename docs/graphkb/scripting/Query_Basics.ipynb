{
  "nbformat": 4,
  "nbformat_minor": 2,
  "metadata": {
    "colab": {
      "name": "Query_Basics.ipynb",
      "provenance": [],
      "authorship_tag": "ABX9TyMiwTn3a2Z2ZntX6RvJFupu",
      "include_colab_link": true
    },
    "kernelspec": {
      "name": "python3",
      "display_name": "Python 3"
    },
    "language_info": {
      "name": "python"
    }
  },
  "cells": [
    {
      "cell_type": "markdown",
      "source": [
        "# Query Basics"
      ],
      "metadata": {
        "id": "qiwjGCPxU27G"
      }
    },
    {
      "cell_type": "markdown",
      "source": [
        "<a href=\"https://colab.research.google.com/github/bcgsc/pori/blob/feature%2Fcolab-notebooks/docs/graphkb/scripting/Query_Basics.ipynb\" target=\"_parent\"><img src=\"https://colab.research.google.com/assets/colab-badge.svg\" alt=\"Open In Colab\"/></a>"
      ],
      "metadata": {}
    },
    {
      "cell_type": "markdown",
      "source": [
        "Documentation for the API can be seen via its OpenAPI specification at [`/api/spec`](https://pori-demo.bcgsc.ca/graphkb-api/api/spec). Here we will cover just the query endpoint which is the most commonly used endpoint as it is used for all searches. The `/query` endpoint accepts a JSON body in a POST request. This is how the user passes filters and other search-related parameters. We will define a few of the important fields and concepts that are used below.\n",
        "\n",
        "All the running examples below use the python GraphKB adapter. This assumes the user has aready initialized the connector and logged in as shown below (using the demo database and credentials).\n",
        "\n",
        "First install the adapter"
      ],
      "metadata": {
        "id": "oQqCn1YLU5TT"
      }
    },
    {
      "cell_type": "code",
      "execution_count": 1,
      "source": [
        "!pip install graphkb"
      ],
      "outputs": [
        {
          "output_type": "stream",
          "name": "stdout",
          "text": [
            "Collecting graphkb\n",
            "  Downloading graphkb-1.5.4-py3-none-any.whl (33 kB)\n",
            "Requirement already satisfied: requests<3,>=2.22.0 in /usr/local/lib/python3.7/dist-packages (from graphkb) (2.23.0)\n",
            "Requirement already satisfied: typing-extensions<4,>=3.7.4.2 in /usr/local/lib/python3.7/dist-packages (from graphkb) (3.7.4.3)\n",
            "Requirement already satisfied: urllib3!=1.25.0,!=1.25.1,<1.26,>=1.21.1 in /usr/local/lib/python3.7/dist-packages (from requests<3,>=2.22.0->graphkb) (1.24.3)\n",
            "Requirement already satisfied: certifi>=2017.4.17 in /usr/local/lib/python3.7/dist-packages (from requests<3,>=2.22.0->graphkb) (2021.5.30)\n",
            "Requirement already satisfied: chardet<4,>=3.0.2 in /usr/local/lib/python3.7/dist-packages (from requests<3,>=2.22.0->graphkb) (3.0.4)\n",
            "Requirement already satisfied: idna<3,>=2.5 in /usr/local/lib/python3.7/dist-packages (from requests<3,>=2.22.0->graphkb) (2.10)\n",
            "Installing collected packages: graphkb\n",
            "Successfully installed graphkb-1.5.4\n"
          ]
        }
      ],
      "metadata": {
        "colab": {
          "base_uri": "https://localhost:8080/"
        },
        "id": "y-5SkyOEU72X",
        "outputId": "4a6b1985-d63d-45ac-8e39-74639b237609"
      }
    },
    {
      "cell_type": "markdown",
      "source": [
        "Then set up the connector "
      ],
      "metadata": {
        "id": "XCh97olfU9h0"
      }
    },
    {
      "cell_type": "code",
      "execution_count": 2,
      "source": [
        "from graphkb import GraphKBConnection\n",
        "\n",
        "GKB_API_URL = 'https://pori-demo.bcgsc.ca/graphkb-api/api'\n",
        "GKB_USER = 'colab_demo'\n",
        "GKB_PASSWORD = 'colab_demo'\n",
        "\n",
        "graphkb_conn = GraphKBConnection(GKB_API_URL)\n",
        "\n",
        "graphkb_conn.login(GKB_USER, GKB_PASSWORD)"
      ],
      "outputs": [],
      "metadata": {
        "id": "GS0iBsyOVGZu"
      }
    },
    {
      "cell_type": "markdown",
      "source": [
        "## Important Fields and Concepts\n",
        "\n",
        "### Query Target\n",
        "\n",
        "The target is the class/table that the users wishes to query. If it is at the top level of the request body then it is also the type of record which will be returned. For example to get a list of all publications in GraphKB. We limit this to the first 3 publications for the purposes of this demo"
      ],
      "metadata": {
        "id": "wR2wT51dVOoo"
      }
    },
    {
      "cell_type": "code",
      "execution_count": 12,
      "source": [
        "graphkb_conn.query({\n",
        "    'target': 'Publication'\n",
        "}, paginate=False, limit=3)"
      ],
      "outputs": [
        {
          "output_type": "execute_result",
          "data": {
            "text/plain": [
              "[{'@class': 'Publication',\n",
              "  '@rid': '#38:0',\n",
              "  'alias': False,\n",
              "  'createdAt': 1612980878029,\n",
              "  'createdBy': '#14:0',\n",
              "  'deprecated': False,\n",
              "  'displayName': 'pmid:25500544',\n",
              "  'journalName': 'oncogene',\n",
              "  'name': 'the landscape and therapeutic relevance of cancer-associated transcript fusions.',\n",
              "  'source': '#17:21',\n",
              "  'sourceId': '25500544',\n",
              "  'updatedAt': 1612980878029,\n",
              "  'updatedBy': '#14:0',\n",
              "  'url': 'https://pubmed.ncbi.nlm.nih.gov/25500544',\n",
              "  'uuid': '1294db97-ee26-4bd4-9b50-d122436905be',\n",
              "  'year': 2015},\n",
              " {'@class': 'Publication',\n",
              "  '@rid': '#38:1',\n",
              "  'alias': False,\n",
              "  'createdAt': 1612981149054,\n",
              "  'createdBy': '#14:0',\n",
              "  'deprecated': False,\n",
              "  'displayName': 'pmid:16081687',\n",
              "  'journalName': 'blood',\n",
              "  'name': 'the jak2v617f activating mutation occurs in chronic myelomonocytic leukemia and acute myeloid leukemia, but not in acute lymphoblastic leukemia or chronic lymphocytic leukemia.',\n",
              "  'source': '#17:21',\n",
              "  'sourceId': '16081687',\n",
              "  'updatedAt': 1612981149054,\n",
              "  'updatedBy': '#14:0',\n",
              "  'url': 'https://pubmed.ncbi.nlm.nih.gov/16081687',\n",
              "  'uuid': '52e0d70f-07f8-48b9-b59d-b0258d60b9ae',\n",
              "  'year': 2005},\n",
              " {'@class': 'Publication',\n",
              "  '@rid': '#38:2',\n",
              "  'alias': False,\n",
              "  'createdAt': 1612981150038,\n",
              "  'createdBy': '#14:0',\n",
              "  'deprecated': False,\n",
              "  'displayName': 'pmid:15146165',\n",
              "  'journalName': 'laboratory investigation; a journal of technical methods and pathology',\n",
              "  'name': 'a great majority of gists with pdgfra mutations represent gastric tumors of low or no malignant potential.',\n",
              "  'source': '#17:21',\n",
              "  'sourceId': '15146165',\n",
              "  'updatedAt': 1612981150038,\n",
              "  'updatedBy': '#14:0',\n",
              "  'url': 'https://pubmed.ncbi.nlm.nih.gov/15146165',\n",
              "  'uuid': '9e600c55-3247-4e24-bcd8-4a20bb0fb794',\n",
              "  'year': 2004}]"
            ]
          },
          "metadata": {
            "tags": []
          },
          "execution_count": 12
        }
      ],
      "metadata": {
        "colab": {
          "base_uri": "https://localhost:8080/"
        },
        "id": "ILh3Gu6DVot7",
        "outputId": "c1aa9b4b-266f-444e-a391-f906404e7765"
      }
    },
    {
      "cell_type": "markdown",
      "source": [
        "### Filters\n",
        "\n",
        "Any field that is accessible with the current users permissions level can be queried via this endpoint. Most commonly users want to filter on this like a records name or source ID (ID in the external database it was imported from). Continuing our example from above let's search for publications with the word \"cancer\"  in them.\n",
        "\n",
        "**Note**: The current full text index only searches on word and word prefixes. Future iterations will support a full lucene index."
      ],
      "metadata": {
        "id": "BqQcpn4YXAM_"
      }
    },
    {
      "cell_type": "code",
      "execution_count": 13,
      "source": [
        "graphkb_conn.query({\n",
        "    'target': 'Publication',\n",
        "    'filters': {'name': 'cancer', 'operator': 'CONTAINSTEXT'}\n",
        "}, paginate=False, limit=3)"
      ],
      "outputs": [
        {
          "output_type": "execute_result",
          "data": {
            "text/plain": [
              "[{'@class': 'Publication',\n",
              "  '@rid': '#38:0',\n",
              "  'alias': False,\n",
              "  'createdAt': 1612980878029,\n",
              "  'createdBy': '#14:0',\n",
              "  'deprecated': False,\n",
              "  'displayName': 'pmid:25500544',\n",
              "  'journalName': 'oncogene',\n",
              "  'name': 'the landscape and therapeutic relevance of cancer-associated transcript fusions.',\n",
              "  'source': '#17:21',\n",
              "  'sourceId': '25500544',\n",
              "  'updatedAt': 1612980878029,\n",
              "  'updatedBy': '#14:0',\n",
              "  'url': 'https://pubmed.ncbi.nlm.nih.gov/25500544',\n",
              "  'uuid': '1294db97-ee26-4bd4-9b50-d122436905be',\n",
              "  'year': 2015},\n",
              " {'@class': 'Publication',\n",
              "  '@rid': '#38:19',\n",
              "  'alias': False,\n",
              "  'createdAt': 1612981162739,\n",
              "  'createdBy': '#14:0',\n",
              "  'deprecated': False,\n",
              "  'displayName': 'pmid:24666267',\n",
              "  'journalName': 'acta oncologica (stockholm, sweden)',\n",
              "  'name': 'the predictive value of kras, nras, braf, pik3ca and pten for anti-egfr treatment in metastatic colorectal cancer: a systematic review and meta-analysis.',\n",
              "  'source': '#17:21',\n",
              "  'sourceId': '24666267',\n",
              "  'updatedAt': 1612981162739,\n",
              "  'updatedBy': '#14:0',\n",
              "  'url': 'https://pubmed.ncbi.nlm.nih.gov/24666267',\n",
              "  'uuid': '06981f31-59d0-439e-b5cd-71f503f9c50e',\n",
              "  'year': 2014},\n",
              " {'@class': 'Publication',\n",
              "  '@rid': '#38:22',\n",
              "  'alias': False,\n",
              "  'createdAt': 1612981164833,\n",
              "  'createdBy': '#14:0',\n",
              "  'deprecated': False,\n",
              "  'displayName': 'pmid:21030459',\n",
              "  'journalName': 'cancer research',\n",
              "  'name': 'the neuroblastoma-associated f1174l alk mutation causes resistance to an alk kinase inhibitor in alk-translocated cancers.',\n",
              "  'source': '#17:21',\n",
              "  'sourceId': '21030459',\n",
              "  'updatedAt': 1612981164833,\n",
              "  'updatedBy': '#14:0',\n",
              "  'url': 'https://pubmed.ncbi.nlm.nih.gov/21030459',\n",
              "  'uuid': '4f088978-1736-4e3e-83fb-6d2c70e88873',\n",
              "  'year': 2010}]"
            ]
          },
          "metadata": {
            "tags": []
          },
          "execution_count": 13
        }
      ],
      "metadata": {
        "colab": {
          "base_uri": "https://localhost:8080/"
        },
        "id": "MpWbHi5QXU3b",
        "outputId": "507b436b-2270-45dc-f02f-3525d10b4fbc"
      }
    },
    {
      "cell_type": "markdown",
      "source": [
        "You can also filter on multiple conditions. To do this we nest filters in an object which uses a single AND/OR property with a list of regular conditions. For example if we want to find diseases with the name \"cancer\" or \"carcinoma\"  "
      ],
      "metadata": {
        "id": "7A-ROancYJaJ"
      }
    },
    {
      "cell_type": "code",
      "execution_count": 6,
      "source": [
        "graphkb_conn.query({\n",
        "    'target': 'Disease',\n",
        "    'filters': {\n",
        "        'OR': [\n",
        "            {'name': 'cancer'},\n",
        "            {'name': 'carcinoma'},\n",
        "        ]\n",
        "    },\n",
        "})"
      ],
      "outputs": [
        {
          "output_type": "execute_result",
          "data": {
            "text/plain": [
              "[{'@class': 'Disease',\n",
              "  '@rid': '#43:99077',\n",
              "  'alias': False,\n",
              "  'createdAt': 1612926192944,\n",
              "  'createdBy': '#14:0',\n",
              "  'deprecated': True,\n",
              "  'displayName': 'carcinoma',\n",
              "  'name': 'carcinoma',\n",
              "  'out_DeprecatedBy': ['#29:1400'],\n",
              "  'source': '#17:19',\n",
              "  'sourceId': 'doid:2428',\n",
              "  'updatedAt': 1612926192944,\n",
              "  'updatedBy': '#14:0',\n",
              "  'uuid': '2c61fd80-43fb-4cd2-941c-889a020cbbde'},\n",
              " {'@class': 'Disease',\n",
              "  '@rid': '#43:99076',\n",
              "  'alias': False,\n",
              "  'createdAt': 1612926192912,\n",
              "  'createdBy': '#14:0',\n",
              "  'deprecated': True,\n",
              "  'displayName': 'carcinoma',\n",
              "  'name': 'carcinoma',\n",
              "  'out_DeprecatedBy': ['#29:1399'],\n",
              "  'source': '#17:19',\n",
              "  'sourceId': 'doid:6570',\n",
              "  'updatedAt': 1612926192912,\n",
              "  'updatedBy': '#14:0',\n",
              "  'uuid': 'baedee00-47a8-4d78-8ff5-7d9d8fadc03f'},\n",
              " {'@class': 'Disease',\n",
              "  '@rid': '#43:99072',\n",
              "  'alias': False,\n",
              "  'createdAt': 1612926192816,\n",
              "  'createdBy': '#14:0',\n",
              "  'deprecated': False,\n",
              "  'description': 'A cell type cancer that has_material_basis_in abnormally proliferating cells derives_from epithelial cells.',\n",
              "  'displayName': 'carcinoma',\n",
              "  'history': '#43:107676',\n",
              "  'in_AliasOf': ['#26:160594', '#26:160595', '#26:160596'],\n",
              "  'in_DeprecatedBy': ['#29:1399', '#29:1400'],\n",
              "  'in_SubClassOf': [],\n",
              "  'name': 'carcinoma',\n",
              "  'out_CrossReferenceOf': ['#28:37788'],\n",
              "  'out_SubClassOf': ['#33:13951'],\n",
              "  'source': '#17:19',\n",
              "  'sourceId': 'doid:305',\n",
              "  'subsets': ['doid#do_flybase_slim',\n",
              "   'doid#ncithesaurus',\n",
              "   'doid#do_cancer_slim'],\n",
              "  'updatedAt': 1612980618003,\n",
              "  'updatedBy': '#14:0',\n",
              "  'uuid': '1775c2a3-b923-49f4-9e28-d5ccfcb32bc3'},\n",
              " {'@class': 'Disease',\n",
              "  '@rid': '#43:68962',\n",
              "  'alias': True,\n",
              "  'createdAt': 1612863235878,\n",
              "  'createdBy': '#14:0',\n",
              "  'deprecated': False,\n",
              "  'displayName': 'cancer [c9305]',\n",
              "  'name': 'cancer',\n",
              "  'out_AliasOf': ['#26:137530'],\n",
              "  'source': '#17:0',\n",
              "  'sourceId': 'c9305',\n",
              "  'updatedAt': 1612863235878,\n",
              "  'updatedBy': '#14:0',\n",
              "  'uuid': 'ed0fffc2-31ef-435b-ae11-6efd6b193dd3'},\n",
              " {'@class': 'Disease',\n",
              "  '@rid': '#43:100548',\n",
              "  'alias': False,\n",
              "  'createdAt': 1612926228848,\n",
              "  'createdBy': '#14:0',\n",
              "  'deprecated': False,\n",
              "  'description': 'A disease of cellular proliferation that is malignant and primary, characterized by uncontrolled cellular proliferation, local cell invasion and metastasis.',\n",
              "  'displayName': 'cancer',\n",
              "  'history': '#43:107678',\n",
              "  'in_AliasOf': ['#26:161531', '#26:161532', '#26:161533'],\n",
              "  'in_SubClassOf': ['#33:5210', '#33:5268'],\n",
              "  'name': 'cancer',\n",
              "  'out_CrossReferenceOf': ['#28:37957'],\n",
              "  'out_ElementOf': ['#30:82543'],\n",
              "  'out_SubClassOf': ['#33:7594'],\n",
              "  'source': '#17:19',\n",
              "  'sourceId': 'doid:162',\n",
              "  'subsets': ['doid#do_flybase_slim',\n",
              "   'doid#ncithesaurus',\n",
              "   'doid#do_cancer_slim',\n",
              "   'doid#do_agr_slim',\n",
              "   'doid#do_gxd_slim'],\n",
              "  'updatedAt': 1612980640268,\n",
              "  'updatedBy': '#14:0',\n",
              "  'uuid': '6a051270-4611-4af2-a5ff-1b31a872b4e0'}]"
            ]
          },
          "metadata": {
            "tags": []
          },
          "execution_count": 6
        }
      ],
      "metadata": {
        "colab": {
          "base_uri": "https://localhost:8080/"
        },
        "id": "bKS77ev-YKyp",
        "outputId": "2dd75647-e312-44d4-890d-13e69e0578d5"
      }
    },
    {
      "cell_type": "markdown",
      "source": [
        "The operator can be omitted here since `=` is the default operator. We can also combined conditions with `AND`\n"
      ],
      "metadata": {
        "id": "ujSilBcJYUjV"
      }
    },
    {
      "cell_type": "code",
      "execution_count": 14,
      "source": [
        "graphkb_conn.query({\n",
        "    'target': 'Disease',\n",
        "    'filters': {\n",
        "        'AND': [\n",
        "            {'name': 'cancer', 'operator': 'CONTAINSTEXT'},\n",
        "            {'name': 'pancreatic', 'operator': 'CONTAINSTEXT'},\n",
        "        ]\n",
        "    },\n",
        "}, paginate=False, limit=3)"
      ],
      "outputs": [
        {
          "output_type": "execute_result",
          "data": {
            "text/plain": [
              "[{'@class': 'Disease',\n",
              "  '@rid': '#43:1683',\n",
              "  'alias': True,\n",
              "  'createdAt': 1612854000193,\n",
              "  'createdBy': '#14:0',\n",
              "  'deprecated': False,\n",
              "  'displayName': 'recurrent pancreatic neuroendocrine cancer [c115433]',\n",
              "  'name': 'recurrent pancreatic neuroendocrine cancer',\n",
              "  'out_AliasOf': ['#26:5496'],\n",
              "  'source': '#17:0',\n",
              "  'sourceId': 'c115433',\n",
              "  'updatedAt': 1612854000193,\n",
              "  'updatedBy': '#14:0',\n",
              "  'uuid': 'a0831763-7bcb-4c68-a9dc-7aee6b3795c3'},\n",
              " {'@class': 'Disease',\n",
              "  '@rid': '#43:8254',\n",
              "  'alias': True,\n",
              "  'createdAt': 1612855453528,\n",
              "  'createdBy': '#14:0',\n",
              "  'deprecated': False,\n",
              "  'displayName': 'pancreatic cancer by ajcc v6 and v7 stage [c134902]',\n",
              "  'name': 'pancreatic cancer by ajcc v6 and v7 stage',\n",
              "  'out_AliasOf': ['#26:18191'],\n",
              "  'source': '#17:0',\n",
              "  'sourceId': 'c134902',\n",
              "  'updatedAt': 1612855453528,\n",
              "  'updatedBy': '#14:0',\n",
              "  'uuid': '21e9a523-1982-4bf0-824d-c50bbe9b11b9'},\n",
              " {'@class': 'Disease',\n",
              "  '@rid': '#43:8255',\n",
              "  'alias': True,\n",
              "  'createdAt': 1612855453548,\n",
              "  'createdBy': '#14:0',\n",
              "  'deprecated': False,\n",
              "  'displayName': 'exocrine and endocrine pancreatic cancer by ajcc v6 and v7 stage [c134902]',\n",
              "  'name': 'exocrine and endocrine pancreatic cancer by ajcc v6 and v7 stage',\n",
              "  'out_AliasOf': ['#26:18192'],\n",
              "  'source': '#17:0',\n",
              "  'sourceId': 'c134902',\n",
              "  'updatedAt': 1612855453548,\n",
              "  'updatedBy': '#14:0',\n",
              "  'uuid': 'd66fdfc2-578c-49cf-b3d7-cfe693fae104'}]"
            ]
          },
          "metadata": {
            "tags": []
          },
          "execution_count": 14
        }
      ],
      "metadata": {
        "colab": {
          "base_uri": "https://localhost:8080/"
        },
        "id": "-zj5u2AIYWQt",
        "outputId": "0ef01535-8f47-4b4b-9764-a5478a3d3031"
      }
    },
    {
      "cell_type": "markdown",
      "source": [
        "The above will look for diseases that have both 'cancer' and 'pancreatic' in the name."
      ],
      "metadata": {
        "id": "8z9yDbdQYdgB"
      }
    },
    {
      "cell_type": "markdown",
      "source": [
        "#### Subquery Filters\n",
        "\n",
        "Sometimes we would like to filter records on a linked field (essentially a foreign key). We can do this with subquery filters."
      ],
      "metadata": {
        "id": "NejsnEyCYhFQ"
      }
    },
    {
      "cell_type": "code",
      "execution_count": 15,
      "source": [
        "graphkb_conn.query({\n",
        "    'target': 'Disease',\n",
        "    'filters': {\n",
        "        'source': {'target': 'Source', 'filters': {'name': 'disease ontology'}}\n",
        "    },\n",
        "}, paginate=False, limit=3)"
      ],
      "outputs": [
        {
          "output_type": "execute_result",
          "data": {
            "text/plain": [
              "[{'@class': 'Disease',\n",
              "  '@rid': '#43:72269',\n",
              "  'alias': True,\n",
              "  'createdAt': 1612924874193,\n",
              "  'createdBy': '#14:0',\n",
              "  'deprecated': False,\n",
              "  'displayName': 'von reklinghausen disease',\n",
              "  'name': 'von reklinghausen disease',\n",
              "  'out_AliasOf': ['#26:145059'],\n",
              "  'source': '#17:19',\n",
              "  'sourceId': 'doid:8712',\n",
              "  'updatedAt': 1612924874193,\n",
              "  'updatedBy': '#14:0',\n",
              "  'uuid': '5647ae2d-8837-48fd-8b46-7669ec046e8e'},\n",
              " {'@class': 'Disease',\n",
              "  '@rid': '#43:72251',\n",
              "  'alias': True,\n",
              "  'createdAt': 1612924873047,\n",
              "  'createdBy': '#14:0',\n",
              "  'deprecated': False,\n",
              "  'displayName': 'other named variants of lymphosarcoma and reticulosarcoma involving lymph nodes of axilla and upper limb',\n",
              "  'name': 'other named variants of lymphosarcoma and reticulosarcoma involving lymph nodes of axilla and upper limb',\n",
              "  'out_AliasOf': ['#26:145052'],\n",
              "  'source': '#17:19',\n",
              "  'sourceId': 'doid:8716',\n",
              "  'updatedAt': 1612924873047,\n",
              "  'updatedBy': '#14:0',\n",
              "  'uuid': '9586920c-fc10-4c5d-9cdb-f92d234d7cb3'},\n",
              " {'@class': 'Disease',\n",
              "  '@rid': '#43:72256',\n",
              "  'alias': True,\n",
              "  'createdAt': 1612924873474,\n",
              "  'createdBy': '#14:0',\n",
              "  'deprecated': False,\n",
              "  'displayName': 'other named variants of lymphosarcoma and reticulosarcoma involving intrapelvic lymph nodes',\n",
              "  'name': 'other named variants of lymphosarcoma and reticulosarcoma involving intrapelvic lymph nodes',\n",
              "  'out_AliasOf': ['#26:145057'],\n",
              "  'source': '#17:19',\n",
              "  'sourceId': 'doid:8716',\n",
              "  'updatedAt': 1612924873474,\n",
              "  'updatedBy': '#14:0',\n",
              "  'uuid': 'e8cf5e88-9624-4900-8986-177e607fd95a'}]"
            ]
          },
          "metadata": {
            "tags": []
          },
          "execution_count": 15
        }
      ],
      "metadata": {
        "colab": {
          "base_uri": "https://localhost:8080/"
        },
        "id": "uE_D-HtiYhxs",
        "outputId": "1041cbb9-a9d4-430c-c0cd-25fd754176f0"
      }
    },
    {
      "cell_type": "markdown",
      "source": [
        "Above we are only returning disease records that have been imported from the disease ontology.\n"
      ],
      "metadata": {
        "id": "O5LsApF2Yrsy"
      }
    },
    {
      "cell_type": "markdown",
      "source": [
        "### Return Properties (Fields)\n",
        "\n",
        "The return fields property allows the user to specify what they would like to return. This can mean returning a subset of fields for a large query to improve the speed of the client digesting the data, or it can be used to de-nest fields. By default the query will return only the immediate properties of the class being queries. This means that linked fields will be listed as their record ID. De-nesting these fields allows you to return them without additional queries."
      ],
      "metadata": {
        "id": "j3X_F8DhYwv4"
      }
    },
    {
      "cell_type": "code",
      "execution_count": 16,
      "source": [
        "graphkb_conn.query({\n",
        "    'target': 'Disease',\n",
        "    'filters': {\n",
        "        'AND': [\n",
        "            {'source': {'target': 'Source', 'filters': {'name': 'disease ontology'}}},\n",
        "            {'name': 'cancer'}\n",
        "        ],\n",
        "    },\n",
        "})"
      ],
      "outputs": [
        {
          "output_type": "execute_result",
          "data": {
            "text/plain": [
              "[{'@class': 'Disease',\n",
              "  '@rid': '#43:100548',\n",
              "  'alias': False,\n",
              "  'createdAt': 1612926228848,\n",
              "  'createdBy': '#14:0',\n",
              "  'deprecated': False,\n",
              "  'description': 'A disease of cellular proliferation that is malignant and primary, characterized by uncontrolled cellular proliferation, local cell invasion and metastasis.',\n",
              "  'displayName': 'cancer',\n",
              "  'history': '#43:107678',\n",
              "  'in_AliasOf': ['#26:161531', '#26:161532', '#26:161533'],\n",
              "  'in_SubClassOf': ['#33:5210', '#33:5268'],\n",
              "  'name': 'cancer',\n",
              "  'out_CrossReferenceOf': ['#28:37957'],\n",
              "  'out_ElementOf': ['#30:82543'],\n",
              "  'out_SubClassOf': ['#33:7594'],\n",
              "  'source': '#17:19',\n",
              "  'sourceId': 'doid:162',\n",
              "  'subsets': ['doid#do_flybase_slim',\n",
              "   'doid#ncithesaurus',\n",
              "   'doid#do_cancer_slim',\n",
              "   'doid#do_agr_slim',\n",
              "   'doid#do_gxd_slim'],\n",
              "  'updatedAt': 1612980640268,\n",
              "  'updatedBy': '#14:0',\n",
              "  'uuid': '6a051270-4611-4af2-a5ff-1b31a872b4e0'}]"
            ]
          },
          "metadata": {
            "tags": []
          },
          "execution_count": 16
        }
      ],
      "metadata": {
        "colab": {
          "base_uri": "https://localhost:8080/"
        },
        "id": "KZQ4X2tcYx2Q",
        "outputId": "8d0935ce-fc0e-4e9c-af52-f412c383e01b"
      }
    },
    {
      "cell_type": "markdown",
      "source": [
        "We probably are not interested in all of these fields so let's pick a few to return."
      ],
      "metadata": {
        "id": "cu7DWgNUZGUp"
      }
    },
    {
      "cell_type": "code",
      "execution_count": 10,
      "source": [
        "graphkb_conn.query({\n",
        "    'target': 'Disease',\n",
        "    'filters': {\n",
        "        'AND': [\n",
        "            {'source': {'target': 'Source', 'filters': {'name': 'disease ontology'}}},\n",
        "            {'name': 'cancer'}\n",
        "        ],\n",
        "    },\n",
        "    'returnProperties': ['name', 'source', 'sourceId', 'alias', 'deprecated']\n",
        "})"
      ],
      "outputs": [
        {
          "output_type": "execute_result",
          "data": {
            "text/plain": [
              "[{'alias': False,\n",
              "  'deprecated': False,\n",
              "  'name': 'cancer',\n",
              "  'source': '#17:19',\n",
              "  'sourceId': 'doid:162'}]"
            ]
          },
          "metadata": {
            "tags": []
          },
          "execution_count": 10
        }
      ],
      "metadata": {
        "colab": {
          "base_uri": "https://localhost:8080/"
        },
        "id": "2YBrKdukZHVJ",
        "outputId": "9e2659a6-ece7-46e3-8ac9-b0e40cf0751a"
      }
    },
    {
      "cell_type": "markdown",
      "source": [
        "The new return looks much more reasonable. However the source field right now is a seperate record ID. This means with the current query we would have to fetch that record separately if we want to see details about it. This can be done in a single query with the nested return properties. Simply delimit properties and sub-properties with a period."
      ],
      "metadata": {
        "id": "IyF0AuBsZNs9"
      }
    },
    {
      "cell_type": "code",
      "execution_count": 11,
      "source": [
        "graphkb_conn.query({\n",
        "    'target': 'Disease',\n",
        "    'filters': {\n",
        "        'AND': [\n",
        "            {'source': {'target': 'Source', 'filters': {'name': 'disease ontology'}}},\n",
        "            {'name': 'cancer'}\n",
        "        ],\n",
        "    },\n",
        "    'returnProperties': ['name', 'source.name', 'sourceId', 'alias', 'deprecated']\n",
        "})"
      ],
      "outputs": [
        {
          "output_type": "execute_result",
          "data": {
            "text/plain": [
              "[{'alias': False,\n",
              "  'deprecated': False,\n",
              "  'name': 'cancer',\n",
              "  'source': {'name': 'disease ontology'},\n",
              "  'sourceId': 'doid:162'}]"
            ]
          },
          "metadata": {
            "tags": []
          },
          "execution_count": 11
        }
      ],
      "metadata": {
        "colab": {
          "base_uri": "https://localhost:8080/"
        },
        "id": "LJwmeZqoZSEZ",
        "outputId": "a0d06e2c-cacc-4e35-9536-65dd301774ec"
      }
    }
  ]
}
